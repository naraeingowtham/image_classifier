{
  "nbformat": 4,
  "nbformat_minor": 0,
  "metadata": {
    "colab": {
      "provenance": [],
      "gpuType": "T4"
    },
    "kernelspec": {
      "name": "python3",
      "display_name": "Python 3"
    },
    "language_info": {
      "name": "python"
    },
    "accelerator": "GPU"
  },
  "cells": [
    {
      "cell_type": "code",
      "execution_count": null,
      "metadata": {
        "id": "peLBhNWqAs3C"
      },
      "outputs": [],
      "source": [
        "# My Cat & Dog Classifier Project\n",
        "### By: Naraein Gowtham G A\n",
        "\n",
        "My goal is to build a simple AI model to tell the difference between cats and dogs. I'll use transfer learning to make it easier."
      ]
    },
    {
      "cell_type": "code",
      "source": [
        "# First, I'm importing all the tools I'll need from different libraries.\n",
        "import tensorflow as tf\n",
        "import tensorflow_datasets as tfds\n",
        "import matplotlib.pyplot as plt\n",
        "import numpy as np\n",
        "from sklearn.metrics import confusion_matrix\n",
        "import seaborn as sns\n",
        "\n",
        "print(\"Setup Complete. TensorFlow Version:\", tf.__version__)"
      ],
      "metadata": {
        "id": "WX88XvIACLGl"
      },
      "execution_count": null,
      "outputs": []
    },
    {
      "cell_type": "code",
      "source": [
        "# This step loads the cats_vs_dogs dataset and splits it into training, validation, and testing sets.\n",
        "(train_ds, validation_ds, test_ds), metadata = tfds.load(\n",
        "    'cats_vs_dogs',\n",
        "    split=['train[:80%]', 'train[80%:90%]', 'train[90%:]'],\n",
        "    with_info=True,\n",
        "    as_supervised=True,\n",
        ")\n",
        "\n",
        "# I need to resize all images to the same size (160x160) and normalize the pixel values.\n",
        "IMG_SIZE = 160\n",
        "def format_example(image, label):\n",
        "    image = tf.cast(image, tf.float32)\n",
        "    image = (image / 127.5) - 1 # Normalize to [-1, 1]\n",
        "    image = tf.image.resize(image, (IMG_SIZE, IMG_SIZE))\n",
        "    return image, label\n",
        "\n",
        "train_ds = train_ds.map(format_example)\n",
        "validation_ds = validation_ds.map(format_example)\n",
        "test_ds = test_ds.map(format_example)\n",
        "\n",
        "# Creating batches of data so the computer doesn't run out of memory.\n",
        "BATCH_SIZE = 32\n",
        "train_batches = train_ds.cache().shuffle(1000).batch(BATCH_SIZE).prefetch(buffer_size=tf.data.AUTOTUNE)\n",
        "validation_batches = validation_ds.cache().batch(BATCH_SIZE).prefetch(buffer_size=tf.data.AUTOTUNE)\n",
        "test_batches = test_ds.cache().batch(BATCH_SIZE).prefetch(buffer_size=tf.data.AUTOTUNE)\n",
        "\n",
        "print(\"Data is loaded and prepared.\")"
      ],
      "metadata": {
        "id": "rSkIqYL-CnVr"
      },
      "execution_count": null,
      "outputs": []
    },
    {
      "cell_type": "code",
      "source": [
        "# Here's the core of the project. I'm using MobileNetV2, a model pre-trained by Google.\n",
        "# I'm not including the \"top\" layer because I'll make my own.\n",
        "base_model = tf.keras.applications.MobileNetV2(input_shape=(IMG_SIZE, IMG_SIZE, 3),\n",
        "                                               include_top=False,\n",
        "                                               weights='imagenet')\n",
        "\n",
        "# Freezing the base model. I don't want to change what it has already learned.\n",
        "base_model.trainable = False\n",
        "\n",
        "# Now I'll add my own layers on top of the base model.\n",
        "global_average_layer = tf.keras.layers.GlobalAveragePooling2D()\n",
        "prediction_layer = tf.keras.layers.Dense(1) # A single output neuron for cat vs. dog\n",
        "\n",
        "# Stacking it all together to create the final model.\n",
        "model = tf.keras.Sequential([\n",
        "    base_model,\n",
        "    global_average_layer,\n",
        "    prediction_layer\n",
        "])\n",
        "\n",
        "# Compiling the model to get it ready for training.\n",
        "model.compile(optimizer=tf.keras.optimizers.Adam(learning_rate=0.0001),\n",
        "              loss=tf.keras.losses.BinaryCrossentropy(from_logits=True),\n",
        "              metrics=['accuracy'])\n",
        "\n",
        "print(\"Model built successfully.\")\n",
        "model.summary()"
      ],
      "metadata": {
        "id": "zEXanEhnCr7r"
      },
      "execution_count": null,
      "outputs": []
    },
    {
      "cell_type": "code",
      "source": [
        "# Here's the core of the project. I'm using MobileNetV2, a model pre-trained by Google.\n",
        "# I'm not including the \"top\" layer because I'll make my own.\n",
        "base_model = tf.keras.applications.MobileNetV2(input_shape=(IMG_SIZE, IMG_SIZE, 3),\n",
        "                                               include_top=False,\n",
        "                                               weights='imagenet')\n",
        "\n",
        "# Freezing the base model. I don't want to change what it has already learned.\n",
        "base_model.trainable = False\n",
        "\n",
        "# Now I'll add my own layers on top of the base model.\n",
        "global_average_layer = tf.keras.layers.GlobalAveragePooling2D()\n",
        "prediction_layer = tf.keras.layers.Dense(1) # A single output neuron for cat vs. dog\n",
        "\n",
        "# Stacking it all together to create the final model.\n",
        "model = tf.keras.Sequential([\n",
        "    base_model,\n",
        "    global_average_layer,\n",
        "    prediction_layer\n",
        "])\n",
        "\n",
        "# Compiling the model to get it ready for training.\n",
        "model.compile(optimizer=tf.keras.optimizers.Adam(learning_rate=0.0001),\n",
        "              loss=tf.keras.losses.BinaryCrossentropy(from_logits=True),\n",
        "              metrics=['accuracy'])\n",
        "\n",
        "print(\"Model built successfully.\")\n",
        "model.summary()"
      ],
      "metadata": {
        "id": "ukmfGJAMDc07"
      },
      "execution_count": null,
      "outputs": []
    },
    {
      "cell_type": "code",
      "source": [
        "# Time to train! I'll train it for 5 epochs.\n",
        "history = model.fit(train_batches,\n",
        "                    epochs=5,\n",
        "                    validation_data=validation_batches)"
      ],
      "metadata": {
        "id": "EmWVYCOvDhGN"
      },
      "execution_count": null,
      "outputs": []
    },
    {
      "cell_type": "code",
      "source": [
        "# Now I'll create some plots to see how the training went.\n",
        "acc = history.history['accuracy']\n",
        "val_acc = history.history['val_accuracy']\n",
        "loss = history.history['loss']\n",
        "val_loss = history.history['val_loss']\n",
        "\n",
        "plt.figure(figsize=(8, 8))\n",
        "plt.subplot(2, 1, 1)\n",
        "plt.plot(acc, label='Training Accuracy')\n",
        "plt.plot(val_acc, label='Validation Accuracy')\n",
        "plt.legend(loc='lower right')\n",
        "plt.title('Training and Validation Accuracy')\n",
        "\n",
        "plt.subplot(2, 1, 2)\n",
        "plt.plot(loss, label='Training Loss')\n",
        "plt.plot(val_loss, label='Validation Loss')\n",
        "plt.legend(loc='upper right')\n",
        "plt.title('Training and Validation Loss')\n",
        "plt.xlabel('epoch')\n",
        "\n",
        "# IMPORTANT: Saving the plot to a file\n",
        "plt.savefig('training_graph.png')\n",
        "plt.show()\n",
        "\n",
        "# I'll also create a confusion matrix to see the final accuracy on the test data.\n",
        "y_true = np.concatenate([y for x, y in test_batches], axis=0)\n",
        "y_pred_logits = model.predict(test_batches)\n",
        "y_pred = (y_pred_logits > 0).astype(int).flatten()\n",
        "\n",
        "cm = confusion_matrix(y_true, y_pred)\n",
        "class_names = ['cat', 'dog']\n",
        "\n",
        "plt.figure(figsize=(6, 6))\n",
        "sns.heatmap(cm, annot=True, fmt='d', cmap='Blues', xticklabels=class_names, yticklabels=class_names)\n",
        "plt.xlabel('Predicted Label')\n",
        "plt.ylabel('True Label')\n",
        "plt.title('Confusion Matrix')\n",
        "\n",
        "# IMPORTANT: Saving the confusion matrix plot\n",
        "plt.savefig('confusion_matrix.png')\n",
        "plt.show()"
      ],
      "metadata": {
        "id": "yj6AlSPRDmf1"
      },
      "execution_count": null,
      "outputs": []
    }
  ]
}